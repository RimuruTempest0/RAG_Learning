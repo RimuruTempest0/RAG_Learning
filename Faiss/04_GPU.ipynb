{
 "cells": [
  {
   "cell_type": "code",
   "execution_count": 2,
   "metadata": {},
   "outputs": [
    {
     "name": "stdout",
     "output_type": "stream",
     "text": [
      "<faiss.swigfaiss.IndexFlatL2; proxy of <Swig Object of type 'faiss::IndexFlatL2 *' at 0x0000022F000093F0> >\n",
      "<faiss.swigfaiss.GpuIndexFlat; proxy of <Swig Object of type 'faiss::gpu::GpuIndexFlat *' at 0x0000022F681C6660> >\n",
      "[[34.55002  34.805252]\n",
      " [34.935516 35.445633]]\n",
      "[[366 353]\n",
      " [684 614]]\n"
     ]
    }
   ],
   "source": [
    "import faiss\n",
    "import numpy as np\n",
    "\n",
    "\n",
    "def test():\n",
    "    # 1, 创建标准的 GPU 资源对象，用它来管理GPU相关的计算资源。\n",
    "    res = faiss.StandardGpuResources()\n",
    "\n",
    "    # 2, 在 CPU 创建索引\n",
    "    index_cpu = faiss.IndexFlatL2(256)\n",
    "    print(index_cpu)\n",
    "\n",
    "    # 3, 将索引转到 GPU\n",
    "    # 参数1：GPU 使用资源\n",
    "    # 参数2：GPU 设备编号\n",
    "    # 参数3：转移的索引\n",
    "    index_gpu = faiss.index_cpu_to_gpu(res, 0, index_cpu)\n",
    "    print(index_gpu)\n",
    "\n",
    "    # 4, 插入数据\n",
    "    index_gpu.add(np.random.rand(1000, 256))\n",
    "    # 5, 向量搜索\n",
    "    D, I = index_gpu.search(np.random.rand(2, 256), k=2)\n",
    "    print(D)\n",
    "    print(I)\n",
    "\n",
    "\n",
    "if __name__ == '__main__':\n",
    "    test()"
   ]
  }
 ],
 "metadata": {
  "kernelspec": {
   "display_name": "faiss_env",
   "language": "python",
   "name": "python3"
  },
  "language_info": {
   "codemirror_mode": {
    "name": "ipython",
    "version": 3
   },
   "file_extension": ".py",
   "mimetype": "text/x-python",
   "name": "python",
   "nbconvert_exporter": "python",
   "pygments_lexer": "ipython3",
   "version": "3.8.19"
  }
 },
 "nbformat": 4,
 "nbformat_minor": 2
}
