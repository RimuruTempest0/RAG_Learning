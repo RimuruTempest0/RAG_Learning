{
 "cells": [
  {
   "cell_type": "markdown",
   "metadata": {},
   "source": [
    "xb-for the database, that contains all the vectors that must be indexed, and that we are going to search in. Its size is nb-by-d\n",
    "\n",
    "xq-for the query vectors, for which we need to find the nearest neighbors. Its size is nq-by-d. If we have a single query vector, nq=1.\n",
    "\n",
    "The matrices are always represented as numpy arrays. The data type dtype must be float32"
   ]
  },
  {
   "cell_type": "code",
   "execution_count": 1,
   "metadata": {},
   "outputs": [],
   "source": [
    "import numpy as np\n",
    "d = 64                           # dimension\n",
    "nb = 100000                      # database size\n",
    "nq = 10000                       # nb of queries\n",
    "np.random.seed(1234)             # make reproducible\n",
    "xb = np.random.random((nb, d)).astype('float32')\n",
    "xb[:, 0] += np.arange(nb) / 1000.\n",
    "xq = np.random.random((nq, d)).astype('float32')\n",
    "xq[:, 0] += np.arange(nq) / 1000."
   ]
  },
  {
   "cell_type": "markdown",
   "metadata": {},
   "source": [
    "##### Building an index and adding the vectors to it\n",
    "When the index is built and trained, two operations can be performed on the index: <code>add</code> & <code>search</code>\n",
    "\n",
    "\n",
    "\n",
    "<!-- <span style=\"background-color: red; padding: 3px 8px; border-radius: 3px; font-family: monospace;\">add and search</span> -->\n",
    "\n"
   ]
  },
  {
   "cell_type": "code",
   "execution_count": 2,
   "metadata": {},
   "outputs": [
    {
     "name": "stdout",
     "output_type": "stream",
     "text": [
      "True\n",
      "100000\n"
     ]
    }
   ],
   "source": [
    "import faiss                   # make faiss available\n",
    "index = faiss.IndexFlatL2(d)   # build the index\n",
    "print(index.is_trained)\n",
    "index.add(xb)                  # add vectors to the index\n",
    "print(index.ntotal)"
   ]
  },
  {
   "cell_type": "code",
   "execution_count": 38,
   "metadata": {},
   "outputs": [
    {
     "name": "stdout",
     "output_type": "stream",
     "text": [
      "10000\n",
      "(array([[73.85191]], dtype=float32), array([[12387]], dtype=int64))\n",
      "9997\n"
     ]
    }
   ],
   "source": [
    "import faiss\n",
    "import numpy as np\n",
    "\n",
    "\n",
    "np.random.seed(0)\n",
    "\n",
    "\n",
    "# 1. 索引创建(数据库)\n",
    "def test01():\n",
    "\n",
    "    data = np.random.rand(10000, 256)\n",
    "    dim = 256\n",
    "    \"\"\"\n",
    "    dim: 参数用来指定存储的向量维度\n",
    "    IndexFlat: 线性搜索\n",
    "    两种计算方法:\n",
    "        L2: 使用欧式距离计算相似度\n",
    "        IP: 点积计算相似度 (越大越相似)\n",
    "\n",
    "    index_factory: 工厂方法\n",
    "\n",
    "    Some other methods of index: https://github.com/facebookresearch/faiss/wiki/Faiss-indexes\n",
    "    \"\"\"\n",
    "    index = faiss.IndexFlatL2(dim)\n",
    "    index = faiss.IndexFlatIP(dim) \n",
    "    index = faiss.index_factory(dim, \"Flat\", faiss.METRIC_L2)\n",
    "    index = faiss.index_factory(dim, \"Flat\", faiss.METRIC_INNER_PRODUCT)\n",
    "\n",
    "    # 2,添加向量\n",
    "    index.add(data)\n",
    "\n",
    "    # 3,搜索向量\n",
    "    query_vectors = np.random.rand(2, 256)\n",
    "    \"\"\"\n",
    "    search(query, topk_queries) -> 最相似的两个向量的值, 两个向量的index\n",
    "    \"\"\"\n",
    "    D, I = index.search(query_vectors, k=2)\n",
    "    # print(D)\n",
    "    # print(I)\n",
    "\n",
    "    # 查询最近似向量的ID\n",
    "    I = index.assign(query_vectors, k=2)\n",
    "    # print(I)\n",
    "\n",
    "    # 重建指定位置向量，并不是所有索引都支持该函数\n",
    "    # print(index.reconstruct(0))\n",
    "\n",
    "    # 4,删除指定 ID 数据 ([1,2,3]代表实际的编号，而不是index位置)\n",
    "    index.remove_ids(np.array([1, 2, 3]))\n",
    "    # print(index.ntotal)\n",
    "\n",
    "    # 删除所有向量数据\n",
    "    index.reset()\n",
    "    # print(index.ntotal)\n",
    "\n",
    "    # 5,存储索引\n",
    "    faiss.write_index(index, 'vectors1.faiss')\n",
    "\n",
    "    # 6,加载索引\n",
    "    index = faiss.read_index('vectors1.faiss')\n",
    "    print(index)\n",
    "\n",
    "\n",
    "# 2. 向量 ID 映射\n",
    "def test02():\n",
    "    # 默认情况下每一个向量都会分配一个连续的编号\n",
    "    # 现在希望能够给每一个向量指定一个 ID\n",
    "    query_vectors = np.random.rand(1,256)\n",
    "    \"\"\"\n",
    "    IndexIDMap: \n",
    "    \"\"\"\n",
    "    index = faiss.IndexFlatIP(256)\n",
    "    # 包装索引，实现自定义向量编号\n",
    "    \"\"\"\n",
    "    faiss.IndexIDMap(index对象) -> index对象\n",
    "    注意：\n",
    "        1, 有些faiss.Index 类 没有 add_with_ids()方法, 所以需要IndexIDMap()再包装一下\n",
    "        2, 也有些faiss.Index 类 已经有了 add_with_ids()方法.\n",
    "    \"\"\"\n",
    "    index = faiss.IndexIDMap(index)\n",
    "\n",
    "    #  参数1：添加的向量\n",
    "    # 参数2：向量的编号\n",
    "    index.add_with_ids(np.random.rand(10000, 256), np.arange(10000, 20000))\n",
    "    print(index.ntotal)\n",
    "\n",
    "    I = index.search(query_vectors, k=1)\n",
    "    print(I)\n",
    "\n",
    "    index.remove_ids(np.array([10000, 10002, 10003]))\n",
    "    print(index.ntotal)\n",
    "if __name__ == '__main__':\n",
    "    # test01()\n",
    "    test02()"
   ]
  },
  {
   "cell_type": "code",
   "execution_count": null,
   "metadata": {},
   "outputs": [],
   "source": []
  }
 ],
 "metadata": {
  "kernelspec": {
   "display_name": "faiss_env",
   "language": "python",
   "name": "python3"
  },
  "language_info": {
   "codemirror_mode": {
    "name": "ipython",
    "version": 3
   },
   "file_extension": ".py",
   "mimetype": "text/x-python",
   "name": "python",
   "nbconvert_exporter": "python",
   "pygments_lexer": "ipython3",
   "version": "3.8.19"
  }
 },
 "nbformat": 4,
 "nbformat_minor": 2
}
