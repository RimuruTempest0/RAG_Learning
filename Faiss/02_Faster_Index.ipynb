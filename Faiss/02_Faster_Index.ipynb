{
 "cells": [
  {
   "cell_type": "markdown",
   "metadata": {},
   "source": [
    "IndexFlat 索引是一种基于线性搜索的索引，它通过逐个计算与每个向量的相似度来进行搜索。在数据量较大的时候，搜索效率会较低。此时，我们可以使用 IndexIVFFlat 索引来提升搜索效率。\n",
    "\n",
    "它的原理如下：对于所有的向量进行聚类，相当于把所有的数据进行分类。当进行查询时，在最相似的 N 个簇中进行线性搜索。这就减少了需要进行相似度计算的数据量，从而提升搜索效率。\n",
    "\n",
    "需要注意：这种方法是一种在查询的精度和效率之间平衡的方法。N越大->精度大，效率慢；反之亦然\n",
    "\n",
    "Useful link: https://blog.csdn.net/ResumeProject/article/details/135350945"
   ]
  },
  {
   "cell_type": "markdown",
   "metadata": {},
   "source": [
    "<img src=\"02_cluster.png\">"
   ]
  },
  {
   "cell_type": "code",
   "execution_count": 1,
   "metadata": {},
   "outputs": [],
   "source": [
    "import faiss\n",
    "import numpy as np\n",
    "import time\n",
    "\n",
    "# Initialize some random data\n",
    "np.random.seed(0)\n",
    "data = np.random.rand(5000000, 256)\n",
    "ids = np.arange(0, 5000000)\n",
    "query_vector = np.random.rand(1, 256)"
   ]
  },
  {
   "cell_type": "code",
   "execution_count": 23,
   "metadata": {},
   "outputs": [],
   "source": [
    "# 1, Linear Index\n",
    "def test01():\n",
    "    index = faiss.IndexFlatL2(256)\n",
    "    index = faiss.IndexIDMap(index)\n",
    "\n",
    "    # add vector\n",
    "    index.add_with_ids(data,ids)\n",
    "\n",
    "    # search vector\n",
    "    s = time.time()\n",
    "    D, I = index.search(query_vector, 2)\n",
    "    print('time of linear', time.time() - s)\n",
    "    print(D, I)\n"
   ]
  },
  {
   "cell_type": "code",
   "execution_count": 24,
   "metadata": {},
   "outputs": [
    {
     "name": "stdout",
     "output_type": "stream",
     "text": [
      "time of linear 0.5690667629241943\n",
      "[[30.425781 30.580658]] [[879992 441435]]\n",
      "time of IVF 0.014178752899169922\n",
      "[[31.449919 31.590675]] [[2838142  459745]]\n"
     ]
    }
   ],
   "source": [
    "# 2, Inverted File Index\n",
    "def test02():\n",
    "    \"\"\"\n",
    "    faiss.IndexIVFFlat() three parameters:\n",
    "        # 第一个参数：量化器\n",
    "        # 第二个参数：向量维度\n",
    "        # 第三个参数：质心数量 (clusters)\n",
    "    先训练分cluster，然后再linear搜索\n",
    "    \"\"\"\n",
    "    quantizer = faiss.IndexFlatL2(256)\n",
    "    index = faiss.IndexIVFFlat(quantizer, 256, 100)\n",
    "\n",
    "    # 指定在搜索时，在最相似的前多少个簇中进行线性搜索。nprobe多，精度高+慢；nprobe少，精度低+快\n",
    "    index.nprobe = 2\n",
    "\n",
    "    # Train the input data to get the 100 clusters\n",
    "    index.train(data)\n",
    "\n",
    "    # When 'add', means adding the input data into the clusters we trained above.\n",
    "    index.add(data)\n",
    "\n",
    "    # Search same query and compare\n",
    "    s = time.time()\n",
    "    D, I = index.search(query_vector, 2)\n",
    "    # 相对于精度最高的linear搜索，IVF为近似搜索，精度不如linear高。\n",
    "    print('time of IVF', time.time() - s)\n",
    "    print(D, I)\n",
    "\n",
    "if __name__ == '__main__':\n",
    "    test01()\n",
    "    test02()"
   ]
  }
 ],
 "metadata": {
  "kernelspec": {
   "display_name": "faiss_env",
   "language": "python",
   "name": "python3"
  },
  "language_info": {
   "codemirror_mode": {
    "name": "ipython",
    "version": 3
   },
   "file_extension": ".py",
   "mimetype": "text/x-python",
   "name": "python",
   "nbconvert_exporter": "python",
   "pygments_lexer": "ipython3",
   "version": "3.8.19"
  }
 },
 "nbformat": 4,
 "nbformat_minor": 2
}
